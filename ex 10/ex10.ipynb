{
 "cells": [
  {
   "cell_type": "markdown",
   "metadata": {},
   "source": [
    "# Probabilidade"
   ]
  },
  {
   "cell_type": "markdown",
   "metadata": {},
   "source": [
    "Dado o lançamento de um dado, qual a probabilidade de obter um par"
   ]
  },
  {
   "cell_type": "code",
   "execution_count": 193,
   "metadata": {},
   "outputs": [
    {
     "name": "stdout",
     "output_type": "stream",
     "text": [
      "Probabilidade é de 50.0%\n"
     ]
    }
   ],
   "source": [
    "p = len([2,4,6])/6 *100\n",
    "print(f'Probabilidade é de {p}%')"
   ]
  },
  {
   "cell_type": "markdown",
   "metadata": {},
   "source": [
    "Probabilidade de um número menor do que 6"
   ]
  },
  {
   "cell_type": "code",
   "execution_count": 194,
   "metadata": {},
   "outputs": [
    {
     "name": "stdout",
     "output_type": "stream",
     "text": [
      "Probabilidade é de 83.33%\n"
     ]
    }
   ],
   "source": [
    "p = len([1,2,3,4,5])/6 * 100\n",
    "print(f'Probabilidade é de {round(p,2)}%')"
   ]
  },
  {
   "cell_type": "markdown",
   "metadata": {},
   "source": [
    "Um baralho possui 52 cartas e 13 dessas são de espada. Qual a probabilidade de tirar 5 cartas de espadas sem reposição?"
   ]
  },
  {
   "cell_type": "code",
   "execution_count": 195,
   "metadata": {},
   "outputs": [
    {
     "name": "stdout",
     "output_type": "stream",
     "text": [
      "Probabilidade é de 0.05%\n"
     ]
    }
   ],
   "source": [
    "p = 13/52 * 12/51 * 11/50 * 10/49 * 9/48 *100\n",
    "print(f'Probabilidade é de {round(p,2)}%')"
   ]
  },
  {
   "cell_type": "markdown",
   "metadata": {},
   "source": [
    "Em um grupo de 90 pessoas, 40 compraram o livro de python, 30 compraram o livro de Java e 20 Compraram o livro de python e de Java. Se escolhermos uma pessoa que comprou o livro de java, qual a probabilidade desta pessoa ter comprado o livro de python?"
   ]
  },
  {
   "cell_type": "code",
   "execution_count": 196,
   "metadata": {},
   "outputs": [
    {
     "name": "stdout",
     "output_type": "stream",
     "text": [
      "Probabilidade é de 40.0%\n",
      "Probabilidade é de 66.67%\n"
     ]
    }
   ],
   "source": [
    "#Considerando que o 20 não está incluso na contagem de cada livro.\n",
    "p = 20/(20+30) * 100\n",
    "print(f'Probabilidade é de {round(p,2)}%')\n",
    "#Considerando o 20 incluso:\n",
    "p = 20/(30) * 100\n",
    "print(f'Probabilidade é de {round(p,2)}%')"
   ]
  },
  {
   "cell_type": "markdown",
   "metadata": {},
   "source": [
    "# Probabilidade com distribuição normal"
   ]
  },
  {
   "cell_type": "markdown",
   "metadata": {},
   "source": [
    "<img src=\"https://datascience.eu/wp-content/uploads/2020/05/image1.png\" alt=\"\" srcset=\"\">"
   ]
  },
  {
   "cell_type": "markdown",
   "metadata": {},
   "source": [
    "## ex 1\n"
   ]
  },
  {
   "cell_type": "markdown",
   "metadata": {},
   "source": [
    "Uma empresa fez um concurso para seleção de novos funcionários. A prova tinha 50 questões e o pedrou acertou 40 questões. <br>\n",
    "Considerando uma distribuição normal com média 24 e desvio padrão de 8, quais são as chances dele ser contratado?"
   ]
  },
  {
   "cell_type": "code",
   "execution_count": 197,
   "metadata": {},
   "outputs": [
    {
     "name": "stdout",
     "output_type": "stream",
     "text": [
      "2.0\n"
     ]
    }
   ],
   "source": [
    "p = (40 - 24)/ 8\n",
    "print(p)"
   ]
  },
  {
   "cell_type": "code",
   "execution_count": 198,
   "metadata": {},
   "outputs": [
    {
     "name": "stdout",
     "output_type": "stream",
     "text": [
      "A probabilidade é de 97,72 %\n"
     ]
    }
   ],
   "source": [
    "print('A probabilidade é de 97,72 %')"
   ]
  },
  {
   "cell_type": "code",
   "execution_count": 199,
   "metadata": {},
   "outputs": [
    {
     "name": "stdout",
     "output_type": "stream",
     "text": [
      "0.9772498680518208\n"
     ]
    }
   ],
   "source": [
    "# solução 2:\n",
    "from scipy.stats import norm, binom, poisson\n",
    "print(norm.cdf(40,24,8))\n"
   ]
  },
  {
   "cell_type": "markdown",
   "metadata": {},
   "source": [
    "## ex 2"
   ]
  },
  {
   "cell_type": "markdown",
   "metadata": {},
   "source": [
    "A vida útil de pneus é representada por uma distribuição normal com média de 38.000 km e desvio padrão de 3.000 km.<br>\n",
    "<ol>\n",
    "<li> Qual a probabilidade de um pneu escolhida aleatoriamente tenha vida útil de 35.000km?\n",
    "<li> Qual a probabilidade que ele dure mais do que 44.000 km?"
   ]
  },
  {
   "cell_type": "code",
   "execution_count": 200,
   "metadata": {},
   "outputs": [
    {
     "name": "stdout",
     "output_type": "stream",
     "text": [
      "A probabilidade de um pneu ter uma vida útil de 35.000km é de 84.13%\n",
      "A probabilidade de um pneu ter uma vida útil de 35.000km é de 15.87%\n"
     ]
    }
   ],
   "source": [
    "#1)\n",
    "#Considerando acima de 35.000 (gabarito oficial)\n",
    "Media = 38000\n",
    "dp = 3000\n",
    "p1 = norm.sf(35000,Media,dp)\n",
    "print(f'A probabilidade de um pneu ter uma vida útil de 35.000km é de {round(p1 * 100,2)}%')\n",
    "#Considerando abaixo de 35.00\n",
    "Media = 38000\n",
    "dp = 3000\n",
    "p1 = norm.cdf(35000,Media,dp)\n",
    "print(f'A probabilidade de um pneu ter uma vida útil de 35.000km é de {round(p1 * 100,2)}%')\n"
   ]
  },
  {
   "cell_type": "code",
   "execution_count": 201,
   "metadata": {},
   "outputs": [
    {
     "name": "stdout",
     "output_type": "stream",
     "text": [
      "A probabilidade de um pneu durar mais que 44.000 km é de 2.28%\n",
      "0.0227501319481792\n"
     ]
    }
   ],
   "source": [
    "#2)\n",
    "p2 = norm.sf(44000,Media,dp)\n",
    "print(f'A probabilidade de um pneu durar mais que 44.000 km é de {round(p2 * 100,2)}%')\n",
    "print(p2)"
   ]
  },
  {
   "cell_type": "markdown",
   "metadata": {},
   "source": [
    "# Probabilidade e distribuição Binomial"
   ]
  },
  {
   "cell_type": "markdown",
   "metadata": {},
   "source": [
    "## EX1"
   ]
  },
  {
   "cell_type": "markdown",
   "metadata": {},
   "source": [
    "70% das pessoas que compraram o livro de Python são mulheres. Se 10 leitores forem selecionados randomicamente, qual a probabilidade de selecionarmos 7 mulheres?"
   ]
  },
  {
   "cell_type": "code",
   "execution_count": 202,
   "metadata": {},
   "outputs": [
    {
     "name": "stdout",
     "output_type": "stream",
     "text": [
      "A probabilidade é de 26.68\n"
     ]
    }
   ],
   "source": [
    "x = 7\n",
    "n = 10\n",
    "p = 0.7\n",
    "probabilidade = binom.pmf(x,n,p) * 100\n",
    "print(f'A probabilidade é de {round(probabilidade,2)}')"
   ]
  },
  {
   "cell_type": "markdown",
   "metadata": {},
   "source": [
    "## EX 2"
   ]
  },
  {
   "cell_type": "markdown",
   "metadata": {},
   "source": [
    "Em uma linha de produção de uma fábrica de parafusos, a probabilidade de obter um parafuso defeituoso é 0,05. \n",
    "Tendo uma amostra de 50 peças, qual a probabilidade de obter\n",
    "<ol>\n",
    "<li>Um parafuso defeituoso\n",
    "<li>Nenhum parafuso defeituoso"
   ]
  },
  {
   "cell_type": "code",
   "execution_count": 203,
   "metadata": {},
   "outputs": [
    {
     "name": "stdout",
     "output_type": "stream",
     "text": [
      "A probabilidade de um parafuso defeituoso é de: 20.25 %\n"
     ]
    }
   ],
   "source": [
    "#1\n",
    "x = 1\n",
    "p = 0.05\n",
    "n = 50\n",
    "probabilidade = round(binom.pmf(x,n,p) * 100,2)\n",
    "print(f'A probabilidade de um parafuso defeituoso é de: {probabilidade} %')"
   ]
  },
  {
   "cell_type": "code",
   "execution_count": 204,
   "metadata": {},
   "outputs": [
    {
     "name": "stdout",
     "output_type": "stream",
     "text": [
      "A probabilidade de nenhum parafuso defeituoso é de: 7.694497527671331 %\n"
     ]
    }
   ],
   "source": [
    "# 2\n",
    "p = 0.95\n",
    "x = 50\n",
    "n = 50\n",
    "probabilidade = binom.pmf(x,n,p) * 100\n",
    "print(f'A probabilidade de nenhum parafuso defeituoso é de: {probabilidade} %')"
   ]
  },
  {
   "cell_type": "markdown",
   "metadata": {},
   "source": [
    "# Probabilidade e distribuição de Poisson"
   ]
  },
  {
   "cell_type": "markdown",
   "metadata": {},
   "source": [
    "## EX1"
   ]
  },
  {
   "cell_type": "markdown",
   "metadata": {},
   "source": [
    "Em uma linha de produção de uma fábrica de parafusos, a probabilidade é de obter 0,05 defeitos por UNIDADE. Qual a probabilidade de uma unidade apresentar:\n",
    "\n",
    "1.   Um defeito\n",
    "2.   Nenhum defeito\n",
    "\n",
    "\n",
    "\n"
   ]
  },
  {
   "cell_type": "code",
   "execution_count": 205,
   "metadata": {},
   "outputs": [
    {
     "name": "stdout",
     "output_type": "stream",
     "text": [
      "A probabilidade de um defeito é de 4.756147122503571\n"
     ]
    }
   ],
   "source": [
    "#1\n",
    "probabilidade = poisson.pmf(1, 0.05) * 100\n",
    "print(f'A probabilidade de um defeito é de {probabilidade}')"
   ]
  },
  {
   "cell_type": "code",
   "execution_count": 206,
   "metadata": {},
   "outputs": [
    {
     "name": "stdout",
     "output_type": "stream",
     "text": [
      "A probabilidade de nenhum defeito é de 95.1229424500714%\n"
     ]
    }
   ],
   "source": [
    "#2\n",
    "probabilidade = poisson.pmf(0, 0.05) * 100\n",
    "print(f'A probabilidade de nenhum defeito é de {probabilidade}%')"
   ]
  },
  {
   "cell_type": "markdown",
   "metadata": {},
   "source": [
    "## EX2"
   ]
  },
  {
   "cell_type": "markdown",
   "metadata": {},
   "source": [
    "Um vendedor de uma loja vende em média 50 produtos por dia. Qual a probabilidade de vender somente 5 produtos no próximo dia?"
   ]
  },
  {
   "cell_type": "code",
   "execution_count": 207,
   "metadata": {},
   "outputs": [
    {
     "name": "stdout",
     "output_type": "stream",
     "text": [
      "A probabilidade dele vender somente 5 produtos é de: 5.0227860624060495e-14 %\n"
     ]
    }
   ],
   "source": [
    "probabilidade = poisson.pmf(5,50) * 100\n",
    "print(f'A probabilidade dele vender somente 5 produtos é de: {probabilidade} %')"
   ]
  }
 ],
 "metadata": {
  "kernelspec": {
   "display_name": "Python 3",
   "language": "python",
   "name": "python3"
  },
  "language_info": {
   "codemirror_mode": {
    "name": "ipython",
    "version": 3
   },
   "file_extension": ".py",
   "mimetype": "text/x-python",
   "name": "python",
   "nbconvert_exporter": "python",
   "pygments_lexer": "ipython3",
   "version": "3.11.4"
  }
 },
 "nbformat": 4,
 "nbformat_minor": 2
}
