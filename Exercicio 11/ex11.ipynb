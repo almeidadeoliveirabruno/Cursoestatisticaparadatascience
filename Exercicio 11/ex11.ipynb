{
 "cells": [
  {
   "cell_type": "markdown",
   "metadata": {},
   "source": [
    "## Calcule o intervalo de confiança dos salários a seguir"
   ]
  },
  {
   "cell_type": "code",
   "execution_count": 2,
   "metadata": {},
   "outputs": [],
   "source": [
    "import numpy as np\n",
    "from scipy.stats import norm\n",
    "from scipy import stats"
   ]
  },
  {
   "cell_type": "code",
   "execution_count": 3,
   "metadata": {},
   "outputs": [],
   "source": [
    "salario = np.array([82.1191, 72.8014, 79.1266, 71.3552, 59.192 , 79.1952, 56.518 ,70.3752, 73.5364, 61.0407, 64.3902, 66.4076, 63.5215, 71.9936,60.1489 ,78.5932, 76.0459, 67.7726, 64.6149, 80.1948, 76.7998,76.1831, 80.7065, 62.4953, 57.204 , 62.5408, 80.0982, 63.287 ,66.5826, 79.3674])"
   ]
  },
  {
   "cell_type": "code",
   "execution_count": 7,
   "metadata": {},
   "outputs": [],
   "source": [
    "intervalos = norm.interval(0.95, salario.mean(), stats.sem(salario))"
   ]
  },
  {
   "cell_type": "code",
   "execution_count": 11,
   "metadata": {},
   "outputs": [
    {
     "name": "stdout",
     "output_type": "stream",
     "text": [
      "Podemos afirmar que em 95% do casos, o intervalo salarial está entre 67.26506308375339 - 73.01545024957993\n"
     ]
    }
   ],
   "source": [
    "print(f'Podemos afirmar com 95% de confiança que o intervalo salarial está entre R${intervalos[0]} - R${intervalos[1]}')"
   ]
  }
 ],
 "metadata": {
  "kernelspec": {
   "display_name": "Python 3",
   "language": "python",
   "name": "python3"
  },
  "language_info": {
   "codemirror_mode": {
    "name": "ipython",
    "version": 3
   },
   "file_extension": ".py",
   "mimetype": "text/x-python",
   "name": "python",
   "nbconvert_exporter": "python",
   "pygments_lexer": "ipython3",
   "version": "3.12.4"
  }
 },
 "nbformat": 4,
 "nbformat_minor": 2
}
