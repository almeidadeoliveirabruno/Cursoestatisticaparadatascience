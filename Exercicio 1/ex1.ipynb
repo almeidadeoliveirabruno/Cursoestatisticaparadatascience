{
 "cells": [
  {
   "cell_type": "markdown",
   "metadata": {},
   "source": [
    "O objetivo deste exercício é utilizar outra base de dados para testar as amostragens e comparar os resultados <br>\n",
    "<ol>\n",
    "<li>Faça o download e carregue a base de dados credit_data.csv, que possui informações sobre empréstimos (se o cliente pagará ou não pagará o empréstimo)\n",
    "\n",
    "<li>Teste cada uma das técnicas de amostragem, selecionando 1000 registros\n",
    "\n",
    "<li>Para a amostragem estratificada, utilize o atributo c#default para separar as categorias\n",
    "\n",
    "<li>No final, faça o comparativo da média utilizando os atributos age, income e loan"
   ]
  },
  {
   "cell_type": "code",
   "execution_count": 123,
   "metadata": {},
   "outputs": [],
   "source": [
    "import pandas as pd\n",
    "import numpy as np\n",
    "import random"
   ]
  },
  {
   "cell_type": "code",
   "execution_count": 124,
   "metadata": {},
   "outputs": [
    {
     "data": {
      "text/html": [
       "<div>\n",
       "<style scoped>\n",
       "    .dataframe tbody tr th:only-of-type {\n",
       "        vertical-align: middle;\n",
       "    }\n",
       "\n",
       "    .dataframe tbody tr th {\n",
       "        vertical-align: top;\n",
       "    }\n",
       "\n",
       "    .dataframe thead th {\n",
       "        text-align: right;\n",
       "    }\n",
       "</style>\n",
       "<table border=\"1\" class=\"dataframe\">\n",
       "  <thead>\n",
       "    <tr style=\"text-align: right;\">\n",
       "      <th></th>\n",
       "      <th>i#clientid</th>\n",
       "      <th>income</th>\n",
       "      <th>age</th>\n",
       "      <th>loan</th>\n",
       "      <th>c#default</th>\n",
       "    </tr>\n",
       "  </thead>\n",
       "  <tbody>\n",
       "    <tr>\n",
       "      <th>1995</th>\n",
       "      <td>1996</td>\n",
       "      <td>59221.044874</td>\n",
       "      <td>48.518179</td>\n",
       "      <td>1926.729397</td>\n",
       "      <td>0</td>\n",
       "    </tr>\n",
       "    <tr>\n",
       "      <th>1996</th>\n",
       "      <td>1997</td>\n",
       "      <td>69516.127573</td>\n",
       "      <td>23.162104</td>\n",
       "      <td>3503.176156</td>\n",
       "      <td>0</td>\n",
       "    </tr>\n",
       "    <tr>\n",
       "      <th>1997</th>\n",
       "      <td>1998</td>\n",
       "      <td>44311.449262</td>\n",
       "      <td>28.017167</td>\n",
       "      <td>5522.786693</td>\n",
       "      <td>1</td>\n",
       "    </tr>\n",
       "    <tr>\n",
       "      <th>1998</th>\n",
       "      <td>1999</td>\n",
       "      <td>43756.056605</td>\n",
       "      <td>63.971796</td>\n",
       "      <td>1622.722598</td>\n",
       "      <td>0</td>\n",
       "    </tr>\n",
       "    <tr>\n",
       "      <th>1999</th>\n",
       "      <td>2000</td>\n",
       "      <td>69436.579552</td>\n",
       "      <td>56.152617</td>\n",
       "      <td>7378.833599</td>\n",
       "      <td>0</td>\n",
       "    </tr>\n",
       "  </tbody>\n",
       "</table>\n",
       "</div>"
      ],
      "text/plain": [
       "      i#clientid        income        age         loan  c#default\n",
       "1995        1996  59221.044874  48.518179  1926.729397          0\n",
       "1996        1997  69516.127573  23.162104  3503.176156          0\n",
       "1997        1998  44311.449262  28.017167  5522.786693          1\n",
       "1998        1999  43756.056605  63.971796  1622.722598          0\n",
       "1999        2000  69436.579552  56.152617  7378.833599          0"
      ]
     },
     "execution_count": 124,
     "metadata": {},
     "output_type": "execute_result"
    }
   ],
   "source": [
    "df_clientes = pd.read_csv('credit_data.csv')\n",
    "df_clientes.tail()"
   ]
  },
  {
   "cell_type": "markdown",
   "metadata": {},
   "source": [
    "<h1>Amostragem aleatória simples</h1>"
   ]
  },
  {
   "cell_type": "code",
   "execution_count": 125,
   "metadata": {},
   "outputs": [],
   "source": [
    "def amostragem_simples(dados: pd.DataFrame,num_amostras, seed):\n",
    "    amostra_simples = dados.sample( n = num_amostras, random_state= seed)\n",
    "    return amostra_simples"
   ]
  },
  {
   "cell_type": "code",
   "execution_count": 126,
   "metadata": {},
   "outputs": [
    {
     "name": "stdout",
     "output_type": "stream",
     "text": [
      "1000\n"
     ]
    }
   ],
   "source": [
    "amostra_simples = amostragem_simples(df_clientes,1000,1)\n",
    "print(len(amostra_simples))"
   ]
  },
  {
   "cell_type": "markdown",
   "metadata": {},
   "source": [
    "<h1> Amostragem sistemática\n"
   ]
  },
  {
   "cell_type": "code",
   "execution_count": 127,
   "metadata": {},
   "outputs": [],
   "source": [
    "'''\n",
    "opção 1 com lista\n",
    "def amostragem_sistematica(dados: pd.DataFrame, num_amostras):\n",
    "    random.seed(1)\n",
    "    intervalo = len(dados)// num_amostras\n",
    "    primeiro_num = random.randint(0,intervalo -1)\n",
    "    amostra_sistematica = [x for x in range(primeiro_num,len(dados),intervalo)]\n",
    "    return dados.iloc[amostra_sistematica]\n",
    "'''\n",
    "\n",
    "def amostragem_sistematica(dataset: pd.DataFrame, amostras,seed):\n",
    "  random.seed(seed)\n",
    "  intervalo = len(dataset) // amostras\n",
    "  inicio = random.randint(0, intervalo - 1)\n",
    "  indices = np.arange(inicio, len(dataset), step = intervalo)\n",
    "  amostra_sistematica = dataset.iloc[indices]\n",
    "  return amostra_sistematica"
   ]
  },
  {
   "cell_type": "code",
   "execution_count": 147,
   "metadata": {},
   "outputs": [
    {
     "data": {
      "text/html": [
       "<div>\n",
       "<style scoped>\n",
       "    .dataframe tbody tr th:only-of-type {\n",
       "        vertical-align: middle;\n",
       "    }\n",
       "\n",
       "    .dataframe tbody tr th {\n",
       "        vertical-align: top;\n",
       "    }\n",
       "\n",
       "    .dataframe thead th {\n",
       "        text-align: right;\n",
       "    }\n",
       "</style>\n",
       "<table border=\"1\" class=\"dataframe\">\n",
       "  <thead>\n",
       "    <tr style=\"text-align: right;\">\n",
       "      <th></th>\n",
       "      <th>i#clientid</th>\n",
       "      <th>income</th>\n",
       "      <th>age</th>\n",
       "      <th>loan</th>\n",
       "      <th>c#default</th>\n",
       "      <th>grupo</th>\n",
       "    </tr>\n",
       "  </thead>\n",
       "  <tbody>\n",
       "    <tr>\n",
       "      <th>0</th>\n",
       "      <td>1</td>\n",
       "      <td>66155.925095</td>\n",
       "      <td>59.017015</td>\n",
       "      <td>8106.532131</td>\n",
       "      <td>0</td>\n",
       "      <td>0</td>\n",
       "    </tr>\n",
       "    <tr>\n",
       "      <th>2</th>\n",
       "      <td>3</td>\n",
       "      <td>57317.170063</td>\n",
       "      <td>63.108049</td>\n",
       "      <td>8020.953296</td>\n",
       "      <td>0</td>\n",
       "      <td>0</td>\n",
       "    </tr>\n",
       "    <tr>\n",
       "      <th>4</th>\n",
       "      <td>5</td>\n",
       "      <td>66952.688845</td>\n",
       "      <td>18.584336</td>\n",
       "      <td>8770.099235</td>\n",
       "      <td>1</td>\n",
       "      <td>0</td>\n",
       "    </tr>\n",
       "    <tr>\n",
       "      <th>6</th>\n",
       "      <td>7</td>\n",
       "      <td>48430.359613</td>\n",
       "      <td>26.809132</td>\n",
       "      <td>5722.581981</td>\n",
       "      <td>0</td>\n",
       "      <td>0</td>\n",
       "    </tr>\n",
       "    <tr>\n",
       "      <th>8</th>\n",
       "      <td>9</td>\n",
       "      <td>40654.892537</td>\n",
       "      <td>55.496853</td>\n",
       "      <td>4755.825280</td>\n",
       "      <td>0</td>\n",
       "      <td>0</td>\n",
       "    </tr>\n",
       "    <tr>\n",
       "      <th>...</th>\n",
       "      <td>...</td>\n",
       "      <td>...</td>\n",
       "      <td>...</td>\n",
       "      <td>...</td>\n",
       "      <td>...</td>\n",
       "      <td>...</td>\n",
       "    </tr>\n",
       "    <tr>\n",
       "      <th>1990</th>\n",
       "      <td>1991</td>\n",
       "      <td>34237.575419</td>\n",
       "      <td>34.101654</td>\n",
       "      <td>2658.090632</td>\n",
       "      <td>0</td>\n",
       "      <td>1</td>\n",
       "    </tr>\n",
       "    <tr>\n",
       "      <th>1992</th>\n",
       "      <td>1993</td>\n",
       "      <td>30803.806165</td>\n",
       "      <td>23.250084</td>\n",
       "      <td>623.024153</td>\n",
       "      <td>0</td>\n",
       "      <td>1</td>\n",
       "    </tr>\n",
       "    <tr>\n",
       "      <th>1994</th>\n",
       "      <td>1995</td>\n",
       "      <td>24254.700791</td>\n",
       "      <td>37.751622</td>\n",
       "      <td>2225.284643</td>\n",
       "      <td>0</td>\n",
       "      <td>1</td>\n",
       "    </tr>\n",
       "    <tr>\n",
       "      <th>1996</th>\n",
       "      <td>1997</td>\n",
       "      <td>69516.127573</td>\n",
       "      <td>23.162104</td>\n",
       "      <td>3503.176156</td>\n",
       "      <td>0</td>\n",
       "      <td>1</td>\n",
       "    </tr>\n",
       "    <tr>\n",
       "      <th>1998</th>\n",
       "      <td>1999</td>\n",
       "      <td>43756.056605</td>\n",
       "      <td>63.971796</td>\n",
       "      <td>1622.722598</td>\n",
       "      <td>0</td>\n",
       "      <td>1</td>\n",
       "    </tr>\n",
       "  </tbody>\n",
       "</table>\n",
       "<p>1000 rows × 6 columns</p>\n",
       "</div>"
      ],
      "text/plain": [
       "      i#clientid        income        age         loan  c#default  grupo\n",
       "0              1  66155.925095  59.017015  8106.532131          0      0\n",
       "2              3  57317.170063  63.108049  8020.953296          0      0\n",
       "4              5  66952.688845  18.584336  8770.099235          1      0\n",
       "6              7  48430.359613  26.809132  5722.581981          0      0\n",
       "8              9  40654.892537  55.496853  4755.825280          0      0\n",
       "...          ...           ...        ...          ...        ...    ...\n",
       "1990        1991  34237.575419  34.101654  2658.090632          0      1\n",
       "1992        1993  30803.806165  23.250084   623.024153          0      1\n",
       "1994        1995  24254.700791  37.751622  2225.284643          0      1\n",
       "1996        1997  69516.127573  23.162104  3503.176156          0      1\n",
       "1998        1999  43756.056605  63.971796  1622.722598          0      1\n",
       "\n",
       "[1000 rows x 6 columns]"
      ]
     },
     "execution_count": 147,
     "metadata": {},
     "output_type": "execute_result"
    }
   ],
   "source": [
    "amostra_sistematica = amostragem_sistematica(df_clientes,1000,1)\n",
    "amostra_sistematica"
   ]
  },
  {
   "cell_type": "markdown",
   "metadata": {},
   "source": [
    "<h1>Amostragem por grupos\n"
   ]
  },
  {
   "cell_type": "code",
   "execution_count": 129,
   "metadata": {},
   "outputs": [],
   "source": [
    "def amostragem_por_grupos(dados: pd.DataFrame, num_amostras, seed):\n",
    "    random.seed(seed)\n",
    "    num_grupos = len(dados) // num_amostras\n",
    "    intervalos = len(dados) // num_grupos\n",
    "    contagem = 0\n",
    "    indice = 0\n",
    "    grupo = []\n",
    "\n",
    "    for _ in dados.iterrows(): #iterrows permite iterar o dataset:\n",
    "        grupo.append(indice)\n",
    "        contagem += 1\n",
    "        if contagem > intervalos:\n",
    "            contagem = 0\n",
    "            indice += 1\n",
    "    \n",
    "    dados['grupo'] = grupo\n",
    "    grupo_sorteado = random.randint(0,num_grupos - 1)\n",
    "    amostra_por_grupo = dados[dados['grupo'] == grupo_sorteado]\n",
    "    return amostra_por_grupo\n",
    "        "
   ]
  },
  {
   "cell_type": "code",
   "execution_count": 130,
   "metadata": {},
   "outputs": [
    {
     "data": {
      "text/plain": [
       "(1001, 6)"
      ]
     },
     "execution_count": 130,
     "metadata": {},
     "output_type": "execute_result"
    }
   ],
   "source": [
    "amostra_grupos = amostragem_por_grupos(df_clientes, 1000, 1)\n",
    "amostra_grupos.shape"
   ]
  },
  {
   "cell_type": "markdown",
   "metadata": {},
   "source": [
    "<h1>Amostragem Estratificada <h1>"
   ]
  },
  {
   "cell_type": "code",
   "execution_count": 131,
   "metadata": {},
   "outputs": [],
   "source": [
    "from sklearn.model_selection import StratifiedShuffleSplit\n",
    "def amostragem_estratificada(data: pd.DataFrame, amostras,campo, seed):\n",
    "    porcentagem = amostras / len(data)\n",
    "    split = StratifiedShuffleSplit(test_size=porcentagem, random_state=seed)\n",
    "    for _, y in split.split(data, data[campo]):\n",
    "        df_y = data.iloc[y]\n",
    "    return df_y\n"
   ]
  },
  {
   "cell_type": "code",
   "execution_count": 132,
   "metadata": {},
   "outputs": [
    {
     "data": {
      "text/plain": [
       "(1000, 6)"
      ]
     },
     "execution_count": 132,
     "metadata": {},
     "output_type": "execute_result"
    }
   ],
   "source": [
    "amostra_estratificada= amostragem_estratificada(df_clientes,1000,'c#default',5)\n",
    "amostra_estratificada.shape"
   ]
  },
  {
   "cell_type": "markdown",
   "metadata": {},
   "source": [
    "<h1> Amostragem Reservatorio"
   ]
  },
  {
   "cell_type": "code",
   "execution_count": 133,
   "metadata": {},
   "outputs": [],
   "source": [
    "def amostragem_reservatorio(dataset, amostras):\n",
    "  stream = []\n",
    "  for i in range(len(dataset)):\n",
    "    stream.append(i)\n",
    "\n",
    "  i = 0\n",
    "  tamanho = len(dataset)\n",
    "\n",
    "  reservatorio = [0] * amostras\n",
    "  for i in range(amostras):\n",
    "    reservatorio[i] = stream[i]\n",
    "\n",
    "  while (i < tamanho):\n",
    "    j = random.randrange(i + 1)\n",
    "    if (j < amostras):\n",
    "      reservatorio[j] = stream[i]\n",
    "    i += 1\n",
    "\n",
    "  return dataset.iloc[reservatorio]"
   ]
  },
  {
   "cell_type": "code",
   "execution_count": 134,
   "metadata": {},
   "outputs": [
    {
     "data": {
      "text/html": [
       "<div>\n",
       "<style scoped>\n",
       "    .dataframe tbody tr th:only-of-type {\n",
       "        vertical-align: middle;\n",
       "    }\n",
       "\n",
       "    .dataframe tbody tr th {\n",
       "        vertical-align: top;\n",
       "    }\n",
       "\n",
       "    .dataframe thead th {\n",
       "        text-align: right;\n",
       "    }\n",
       "</style>\n",
       "<table border=\"1\" class=\"dataframe\">\n",
       "  <thead>\n",
       "    <tr style=\"text-align: right;\">\n",
       "      <th></th>\n",
       "      <th>i#clientid</th>\n",
       "      <th>income</th>\n",
       "      <th>age</th>\n",
       "      <th>loan</th>\n",
       "      <th>c#default</th>\n",
       "      <th>grupo</th>\n",
       "    </tr>\n",
       "  </thead>\n",
       "  <tbody>\n",
       "    <tr>\n",
       "      <th>0</th>\n",
       "      <td>1</td>\n",
       "      <td>66155.925095</td>\n",
       "      <td>59.017015</td>\n",
       "      <td>8106.532131</td>\n",
       "      <td>0</td>\n",
       "      <td>0</td>\n",
       "    </tr>\n",
       "    <tr>\n",
       "      <th>1649</th>\n",
       "      <td>1650</td>\n",
       "      <td>62219.037539</td>\n",
       "      <td>19.523983</td>\n",
       "      <td>5831.521429</td>\n",
       "      <td>0</td>\n",
       "      <td>1</td>\n",
       "    </tr>\n",
       "    <tr>\n",
       "      <th>2</th>\n",
       "      <td>3</td>\n",
       "      <td>57317.170063</td>\n",
       "      <td>63.108049</td>\n",
       "      <td>8020.953296</td>\n",
       "      <td>0</td>\n",
       "      <td>0</td>\n",
       "    </tr>\n",
       "    <tr>\n",
       "      <th>1114</th>\n",
       "      <td>1115</td>\n",
       "      <td>37887.549393</td>\n",
       "      <td>24.415726</td>\n",
       "      <td>5061.777831</td>\n",
       "      <td>1</td>\n",
       "      <td>1</td>\n",
       "    </tr>\n",
       "    <tr>\n",
       "      <th>1023</th>\n",
       "      <td>1024</td>\n",
       "      <td>68414.120777</td>\n",
       "      <td>51.046781</td>\n",
       "      <td>6154.052457</td>\n",
       "      <td>0</td>\n",
       "      <td>1</td>\n",
       "    </tr>\n",
       "    <tr>\n",
       "      <th>...</th>\n",
       "      <td>...</td>\n",
       "      <td>...</td>\n",
       "      <td>...</td>\n",
       "      <td>...</td>\n",
       "      <td>...</td>\n",
       "      <td>...</td>\n",
       "    </tr>\n",
       "    <tr>\n",
       "      <th>1476</th>\n",
       "      <td>1477</td>\n",
       "      <td>46024.144562</td>\n",
       "      <td>24.174516</td>\n",
       "      <td>4318.377722</td>\n",
       "      <td>0</td>\n",
       "      <td>1</td>\n",
       "    </tr>\n",
       "    <tr>\n",
       "      <th>996</th>\n",
       "      <td>997</td>\n",
       "      <td>49104.768240</td>\n",
       "      <td>35.538517</td>\n",
       "      <td>9452.217947</td>\n",
       "      <td>0</td>\n",
       "      <td>0</td>\n",
       "    </tr>\n",
       "    <tr>\n",
       "      <th>997</th>\n",
       "      <td>998</td>\n",
       "      <td>65776.232413</td>\n",
       "      <td>39.798191</td>\n",
       "      <td>2805.863745</td>\n",
       "      <td>0</td>\n",
       "      <td>0</td>\n",
       "    </tr>\n",
       "    <tr>\n",
       "      <th>998</th>\n",
       "      <td>999</td>\n",
       "      <td>36192.149452</td>\n",
       "      <td>21.402403</td>\n",
       "      <td>7236.173930</td>\n",
       "      <td>1</td>\n",
       "      <td>0</td>\n",
       "    </tr>\n",
       "    <tr>\n",
       "      <th>1573</th>\n",
       "      <td>1574</td>\n",
       "      <td>68503.205890</td>\n",
       "      <td>19.280535</td>\n",
       "      <td>3580.463677</td>\n",
       "      <td>0</td>\n",
       "      <td>1</td>\n",
       "    </tr>\n",
       "  </tbody>\n",
       "</table>\n",
       "<p>1000 rows × 6 columns</p>\n",
       "</div>"
      ],
      "text/plain": [
       "      i#clientid        income        age         loan  c#default  grupo\n",
       "0              1  66155.925095  59.017015  8106.532131          0      0\n",
       "1649        1650  62219.037539  19.523983  5831.521429          0      1\n",
       "2              3  57317.170063  63.108049  8020.953296          0      0\n",
       "1114        1115  37887.549393  24.415726  5061.777831          1      1\n",
       "1023        1024  68414.120777  51.046781  6154.052457          0      1\n",
       "...          ...           ...        ...          ...        ...    ...\n",
       "1476        1477  46024.144562  24.174516  4318.377722          0      1\n",
       "996          997  49104.768240  35.538517  9452.217947          0      0\n",
       "997          998  65776.232413  39.798191  2805.863745          0      0\n",
       "998          999  36192.149452  21.402403  7236.173930          1      0\n",
       "1573        1574  68503.205890  19.280535  3580.463677          0      1\n",
       "\n",
       "[1000 rows x 6 columns]"
      ]
     },
     "execution_count": 134,
     "metadata": {},
     "output_type": "execute_result"
    }
   ],
   "source": [
    "amostra_reservatorio = amostragem_reservatorio(df_clientes,1000)\n",
    "amostra_reservatorio"
   ]
  },
  {
   "cell_type": "markdown",
   "metadata": {},
   "source": [
    "<h1>Comparação\n"
   ]
  },
  {
   "cell_type": "code",
   "execution_count": 177,
   "metadata": {},
   "outputs": [
    {
     "data": {
      "text/plain": [
       "age          40.807559\n",
       "income    45331.600018\n",
       "loan       4444.369695\n",
       "dtype: float64"
      ]
     },
     "execution_count": 177,
     "metadata": {},
     "output_type": "execute_result"
    }
   ],
   "source": [
    "dados_analisados = ['age','income','loan']\n",
    "df_clientes_analise = df_clientes[dados_analisados]\n",
    "age_base,income_base,loan_base = df_clientes_analise.mean()\n",
    "df_clientes_analise.mean()"
   ]
  },
  {
   "cell_type": "code",
   "execution_count": 182,
   "metadata": {},
   "outputs": [
    {
     "name": "stdout",
     "output_type": "stream",
     "text": [
      "age          40.959491\n",
      "income    45422.483657\n",
      "loan       4493.759721\n",
      "dtype: float64\n",
      "\n",
      "Diferença age: 0.1519321157356046\n",
      "Diferença income: 90.88363928603212\n",
      "Diferença loan: 49.3900259596885\n"
     ]
    }
   ],
   "source": [
    "df_amostra_simples = amostra_simples[dados_analisados]\n",
    "print(df_amostra_simples.mean())\n",
    "print()"
   ]
  },
  {
   "cell_type": "code",
   "execution_count": 166,
   "metadata": {},
   "outputs": [
    {
     "data": {
      "text/plain": [
       "age          40.704049\n",
       "income    44971.701285\n",
       "loan       4381.951413\n",
       "dtype: float64"
      ]
     },
     "execution_count": 166,
     "metadata": {},
     "output_type": "execute_result"
    }
   ],
   "source": [
    "df_amostra_sistematica = amostra_sistematica[dados_analisados]\n",
    "df_amostra_sistematica.mean()"
   ]
  },
  {
   "cell_type": "code",
   "execution_count": 169,
   "metadata": {},
   "outputs": [
    {
     "data": {
      "text/plain": [
       "age          41.043223\n",
       "income    44846.749260\n",
       "loan       4390.161494\n",
       "dtype: float64"
      ]
     },
     "execution_count": 169,
     "metadata": {},
     "output_type": "execute_result"
    }
   ],
   "source": [
    "df_amostra_grupos = amostra_grupos[dados_analisados]\n",
    "df_amostra_grupos.mean()"
   ]
  },
  {
   "cell_type": "code",
   "execution_count": 172,
   "metadata": {},
   "outputs": [
    {
     "data": {
      "text/plain": [
       "age          40.338648\n",
       "income    46210.399212\n",
       "loan       4495.031970\n",
       "dtype: float64"
      ]
     },
     "execution_count": 172,
     "metadata": {},
     "output_type": "execute_result"
    }
   ],
   "source": [
    "df_amostra_estratificada =  amostra_estratificada[dados_analisados]\n",
    "df_amostra_estratificada.mean()"
   ]
  },
  {
   "cell_type": "code",
   "execution_count": 175,
   "metadata": {},
   "outputs": [
    {
     "data": {
      "text/plain": [
       "age          40.572037\n",
       "income    45111.194297\n",
       "loan       4429.634971\n",
       "dtype: float64"
      ]
     },
     "execution_count": 175,
     "metadata": {},
     "output_type": "execute_result"
    }
   ],
   "source": [
    "df_amostra_reservatorio = amostra_reservatorio[dados_analisados]\n",
    "df_amostra_reservatorio.mean()"
   ]
  },
  {
   "cell_type": "code",
   "execution_count": 188,
   "metadata": {},
   "outputs": [
    {
     "name": "stdout",
     "output_type": "stream",
     "text": [
      "Amostras simples: \n",
      "Diferença age: 0.1519321157356046\n",
      "Diferença income: 90.88363928603212\n",
      "Diferença loan: 49.3900259596885\n",
      "\n",
      "Amostra sistematica: \n",
      "Diferença age: 0.1035107148618053\n",
      "Diferença income: 359.8987328761723\n",
      "Diferença loan: 62.41828173807062\n",
      "\n",
      "Amostra estratificada:\n",
      "Diferença age: 0.46891122212718983\n",
      "Diferença income: 878.79919427797\n",
      "Diferença loan: 50.662275176941876\n",
      "\n",
      "Amostra grupos\n",
      "Diferença age: 0.23566373364572257\n",
      "Diferença income: 484.85075793183205\n",
      "Diferença loan: 54.208200944053715\n",
      "\n",
      "Amostra Reservatorio\n",
      "Diferença age: 0.23552229632121424\n",
      "Diferença income: 220.4057204478886\n",
      "Diferença loan: 14.734723317888893\n",
      "\n"
     ]
    }
   ],
   "source": [
    "def impressao_diferenca(nome):\n",
    "    print('Diferença age:', abs(nome['age'].mean() - age_base))\n",
    "    print('Diferença income:', abs(nome['income'].mean() - income_base))\n",
    "    print('Diferença loan:', abs(nome['loan'].mean() - loan_base))\n",
    "    print()\n",
    "\n",
    "print('Amostras simples: ')\n",
    "impressao_diferenca(df_amostra_simples)\n",
    "print('Amostra sistematica: ')\n",
    "impressao_diferenca(df_amostra_sistematica)\n",
    "print('Amostra estratificada:')\n",
    "impressao_diferenca(df_amostra_estratificada)\n",
    "print('Amostra grupos')\n",
    "impressao_diferenca(df_amostra_grupos)\n",
    "print('Amostra Reservatorio')\n",
    "impressao_diferenca(df_amostra_reservatorio)"
   ]
  }
 ],
 "metadata": {
  "kernelspec": {
   "display_name": "Python 3",
   "language": "python",
   "name": "python3"
  },
  "language_info": {
   "codemirror_mode": {
    "name": "ipython",
    "version": 3
   },
   "file_extension": ".py",
   "mimetype": "text/x-python",
   "name": "python",
   "nbconvert_exporter": "python",
   "pygments_lexer": "ipython3",
   "version": "3.11.4"
  }
 },
 "nbformat": 4,
 "nbformat_minor": 2
}
