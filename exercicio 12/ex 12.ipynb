{
 "cells": [
  {
   "cell_type": "markdown",
   "metadata": {},
   "source": [
    "Assim como você pode fazer testes de hipóteses usando a estatística Z, é também possível utilizar a estatística T da Distribuição T Student para realizar testes de hipóteses quando você possui poucos registros (até 30 amostras). Implemente a base de dados abaixo com a alturas de somente 9 pessoas <br>\n",
    "\n",
    "np.array([149. , 160., 147., 189., 175., 168., 156., 160., 152.])\n",
    "Depois siga o seguinte roteiro: <br>\n",
    "\n",
    "Crie uma nova variável também com alturas de 9 pessoas, porém, com valores diferentes <br>\n",
    "\n",
    "Faça a importação do pacote from scipy.stats import ttest_rel para realizar o teste de hipótese. Caso tenha dúvidas, consulte aqui a documentação <br>\n",
    "\n",
    "Realize o teste de hipótese para verificar se as distribuições são ou não são diferentes <br>"
   ]
  },
  {
   "cell_type": "code",
   "execution_count": 7,
   "metadata": {},
   "outputs": [],
   "source": [
    "import numpy as np\n",
    "import math\n",
    "from scipy.stats import norm, ttest_rel"
   ]
  },
  {
   "cell_type": "code",
   "execution_count": 8,
   "metadata": {},
   "outputs": [],
   "source": [
    "dados_originais = np.array([149. , 160., 147., 189., 175., 168., 156., 160., 152.])\n",
    "dados_novos = np.array([151.98, 163.2 , 149.94, 192.78, 178.5 , 171.36, 159.12, 163.2 ,155.04])"
   ]
  },
  {
   "cell_type": "code",
   "execution_count": 9,
   "metadata": {},
   "outputs": [
    {
     "data": {
      "text/plain": [
       "'Hipótese nula rejeitada'"
      ]
     },
     "execution_count": 9,
     "metadata": {},
     "output_type": "execute_result"
    }
   ],
   "source": [
    "_, p = ttest_rel(dados_originais,dados_novos)\n",
    "alpha = 0.01\n",
    "'Hipótese nula rejeitada' if t <= alpha else 'hipótese alternativa rejeitada'"
   ]
  }
 ],
 "metadata": {
  "kernelspec": {
   "display_name": "Python 3",
   "language": "python",
   "name": "python3"
  },
  "language_info": {
   "codemirror_mode": {
    "name": "ipython",
    "version": 3
   },
   "file_extension": ".py",
   "mimetype": "text/x-python",
   "name": "python",
   "nbconvert_exporter": "python",
   "pygments_lexer": "ipython3",
   "version": "3.12.4"
  }
 },
 "nbformat": 4,
 "nbformat_minor": 2
}
