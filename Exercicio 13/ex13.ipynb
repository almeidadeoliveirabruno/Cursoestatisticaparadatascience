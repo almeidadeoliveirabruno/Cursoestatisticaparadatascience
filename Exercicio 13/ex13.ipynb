{
 "cells": [
  {
   "cell_type": "markdown",
   "metadata": {},
   "source": [
    "Nas aulas anteriores nós fizemos os testes de hipóteses utilizando técnicas de estatística não paramétrica. Porém, como os resultados dos algoritmos seguem uma distribuição normal (conforme os testes de normalidade realizados), o objetivo desta tarefa é aplicar o ANOVA e também o teste de Tukey para comparar os resultados dos algoritmo"
   ]
  },
  {
   "cell_type": "code",
   "execution_count": 104,
   "metadata": {},
   "outputs": [],
   "source": [
    "import pandas as pd\n",
    "import numpy as np\n",
    "from sklearn.naive_bayes import GaussianNB\n",
    "from sklearn.linear_model import LogisticRegression\n",
    "from sklearn.ensemble import RandomForestClassifier\n",
    "from sklearn.model_selection import cross_val_score, KFold\n",
    "from statsmodels.stats.multicomp import MultiComparison"
   ]
  },
  {
   "cell_type": "markdown",
   "metadata": {},
   "source": [
    "## Treinamento"
   ]
  },
  {
   "cell_type": "code",
   "execution_count": 105,
   "metadata": {},
   "outputs": [
    {
     "data": {
      "text/html": [
       "<div>\n",
       "<style scoped>\n",
       "    .dataframe tbody tr th:only-of-type {\n",
       "        vertical-align: middle;\n",
       "    }\n",
       "\n",
       "    .dataframe tbody tr th {\n",
       "        vertical-align: top;\n",
       "    }\n",
       "\n",
       "    .dataframe thead th {\n",
       "        text-align: right;\n",
       "    }\n",
       "</style>\n",
       "<table border=\"1\" class=\"dataframe\">\n",
       "  <thead>\n",
       "    <tr style=\"text-align: right;\">\n",
       "      <th></th>\n",
       "      <th>i#clientid</th>\n",
       "      <th>income</th>\n",
       "      <th>age</th>\n",
       "      <th>loan</th>\n",
       "      <th>c#default</th>\n",
       "    </tr>\n",
       "  </thead>\n",
       "  <tbody>\n",
       "    <tr>\n",
       "      <th>0</th>\n",
       "      <td>1</td>\n",
       "      <td>66155.925095</td>\n",
       "      <td>59.017015</td>\n",
       "      <td>8106.532131</td>\n",
       "      <td>0</td>\n",
       "    </tr>\n",
       "    <tr>\n",
       "      <th>1</th>\n",
       "      <td>2</td>\n",
       "      <td>34415.153966</td>\n",
       "      <td>48.117153</td>\n",
       "      <td>6564.745018</td>\n",
       "      <td>0</td>\n",
       "    </tr>\n",
       "    <tr>\n",
       "      <th>2</th>\n",
       "      <td>3</td>\n",
       "      <td>57317.170063</td>\n",
       "      <td>63.108049</td>\n",
       "      <td>8020.953296</td>\n",
       "      <td>0</td>\n",
       "    </tr>\n",
       "    <tr>\n",
       "      <th>3</th>\n",
       "      <td>4</td>\n",
       "      <td>42709.534201</td>\n",
       "      <td>45.751972</td>\n",
       "      <td>6103.642260</td>\n",
       "      <td>0</td>\n",
       "    </tr>\n",
       "    <tr>\n",
       "      <th>4</th>\n",
       "      <td>5</td>\n",
       "      <td>66952.688845</td>\n",
       "      <td>18.584336</td>\n",
       "      <td>8770.099235</td>\n",
       "      <td>1</td>\n",
       "    </tr>\n",
       "  </tbody>\n",
       "</table>\n",
       "</div>"
      ],
      "text/plain": [
       "   i#clientid        income        age         loan  c#default\n",
       "0           1  66155.925095  59.017015  8106.532131          0\n",
       "1           2  34415.153966  48.117153  6564.745018          0\n",
       "2           3  57317.170063  63.108049  8020.953296          0\n",
       "3           4  42709.534201  45.751972  6103.642260          0\n",
       "4           5  66952.688845  18.584336  8770.099235          1"
      ]
     },
     "execution_count": 105,
     "metadata": {},
     "output_type": "execute_result"
    }
   ],
   "source": [
    "dataset = pd.read_csv('credit_data.csv')\n",
    "dataset.dropna(inplace=True)\n",
    "dataset.head()"
   ]
  },
  {
   "cell_type": "code",
   "execution_count": 106,
   "metadata": {},
   "outputs": [],
   "source": [
    "X = dataset.iloc[:, 1:4].values\n",
    "y = dataset.iloc[:, 4].values"
   ]
  },
  {
   "cell_type": "code",
   "execution_count": 107,
   "metadata": {},
   "outputs": [
    {
     "data": {
      "text/plain": [
       "(np.float64(59.0170150669292), np.float64(66155.9250950813))"
      ]
     },
     "execution_count": 107,
     "metadata": {},
     "output_type": "execute_result"
    }
   ],
   "source": [
    "min(X[0]), max(X[0])"
   ]
  },
  {
   "cell_type": "code",
   "execution_count": 108,
   "metadata": {},
   "outputs": [],
   "source": [
    "#aplicação do z-score para melhorar o desempenho do algoritmo\n",
    "from sklearn.preprocessing import StandardScaler\n",
    "scaler = StandardScaler()\n",
    "X = scaler.fit_transform(X)"
   ]
  },
  {
   "cell_type": "code",
   "execution_count": 109,
   "metadata": {},
   "outputs": [
    {
     "data": {
      "text/plain": [
       "(np.float64(1.2019070702053862), np.float64(1.4538977547824534))"
      ]
     },
     "execution_count": 109,
     "metadata": {},
     "output_type": "execute_result"
    }
   ],
   "source": [
    "min(X[0]), max(X[0])"
   ]
  },
  {
   "cell_type": "code",
   "execution_count": 110,
   "metadata": {},
   "outputs": [],
   "source": [
    "resultados_naive_cv = []\n",
    "resultados_logistica_cv = []\n",
    "resultados_forest_cv = []\n",
    "for i in range(30):\n",
    "  kfold = KFold(n_splits = 10, shuffle = True, random_state = i)\n",
    "\n",
    "  naive_bayes = GaussianNB()\n",
    "  scores = cross_val_score(naive_bayes, X, y, cv = kfold)\n",
    "  resultados_naive_cv.append(scores.mean())\n",
    "\n",
    "  logistica = LogisticRegression()\n",
    "  scores = cross_val_score(logistica, X, y, cv = kfold)\n",
    "  resultados_logistica_cv.append(scores.mean())\n",
    "\n",
    "  random_forest = RandomForestClassifier()\n",
    "  scores = cross_val_score(random_forest, X, y, cv = kfold)\n",
    "  resultados_forest_cv.append(scores.mean())\n",
    "\n",
    "resultados_naive_cv = np.array(resultados_naive_cv)\n",
    "resultados_logistica_cv = np.array(resultados_logistica_cv)\n",
    "resultados_forest_cv = np.array(resultados_forest_cv)"
   ]
  },
  {
   "cell_type": "code",
   "execution_count": 111,
   "metadata": {},
   "outputs": [
    {
     "data": {
      "text/plain": [
       "(np.float64(0.9249859296482411),\n",
       " np.float64(0.9456840871021776),\n",
       " np.float64(0.9871139865996651))"
      ]
     },
     "execution_count": 111,
     "metadata": {},
     "output_type": "execute_result"
    }
   ],
   "source": [
    "resultados_naive_cv.mean(), resultados_logistica_cv.mean(), resultados_forest_cv.mean()"
   ]
  },
  {
   "cell_type": "markdown",
   "metadata": {},
   "source": [
    "## Teste"
   ]
  },
  {
   "cell_type": "markdown",
   "metadata": {},
   "source": [
    "### Anova"
   ]
  },
  {
   "cell_type": "code",
   "execution_count": 112,
   "metadata": {},
   "outputs": [
    {
     "name": "stdout",
     "output_type": "stream",
     "text": [
      "4.035203721525716e-116\n"
     ]
    },
    {
     "data": {
      "text/plain": [
       "'Existe diferença estatística significativa'"
      ]
     },
     "execution_count": 112,
     "metadata": {},
     "output_type": "execute_result"
    }
   ],
   "source": [
    "from scipy.stats import f_oneway\n",
    "_, p = f_oneway(resultados_naive_cv, resultados_logistica_cv, resultados_forest_cv)\n",
    "print(p)\n",
    "'Existe diferença estatística significativa' if p < 0.05 else 'Não existe diferença estatística significativa'"
   ]
  },
  {
   "cell_type": "markdown",
   "metadata": {},
   "source": [
    "### Tukey"
   ]
  },
  {
   "cell_type": "code",
   "execution_count": 113,
   "metadata": {},
   "outputs": [
    {
     "name": "stdout",
     "output_type": "stream",
     "text": [
      "{'Naive': 30, 'Logistica': 30, 'Forest': 30}\n"
     ]
    }
   ],
   "source": [
    "#Preparando os dados para turkey e verificando se a lógica funcionou por meio da contagem.\n",
    "nomes_modelos = ['Naive'] * 30 + ['Logistica'] * 30 + ['Forest'] * 30\n",
    "contagem = {}\n",
    "for nomes in nomes_modelos:\n",
    "    contagem[nomes] =  contagem.get(nomes,0) + 1\n",
    "print(contagem)"
   ]
  },
  {
   "cell_type": "code",
   "execution_count": 114,
   "metadata": {},
   "outputs": [
    {
     "data": {
      "text/plain": [
       "array([0.92486181, 0.92491709, 0.92438693, 0.92288191, 0.92487186,\n",
       "       0.92588945, 0.92438442, 0.92488945, 0.92487186, 0.92388945,\n",
       "       0.92538442, 0.92440201, 0.92537437, 0.92439447, 0.92488693,\n",
       "       0.92538191, 0.92588442, 0.92439447, 0.92438191, 0.92588442,\n",
       "       0.92589447, 0.92538945, 0.92436432, 0.92688442, 0.92339447,\n",
       "       0.92488945, 0.92488693, 0.92539196, 0.92588442, 0.92638442,\n",
       "       0.94642714, 0.94640201, 0.94641709, 0.94490955, 0.94591457,\n",
       "       0.94291709, 0.94541206, 0.94690201, 0.94541457, 0.94392714,\n",
       "       0.94642462, 0.94542211, 0.94642211, 0.94540201, 0.94440955,\n",
       "       0.94592211, 0.9459397 , 0.94440955, 0.9453995 , 0.94641709,\n",
       "       0.94743467, 0.94441206, 0.94642462, 0.94490955, 0.9458995 ,\n",
       "       0.94592211, 0.9474397 , 0.94542211, 0.94642462, 0.94542211,\n",
       "       0.98597739, 0.9854799 , 0.9839799 , 0.98696985, 0.98898492,\n",
       "       0.98798241, 0.98697487, 0.98548492, 0.98747487, 0.98698492,\n",
       "       0.99048492, 0.98546985, 0.9889799 , 0.98897739, 0.98848744,\n",
       "       0.98748241, 0.98848995, 0.98647236, 0.9879799 , 0.98498492,\n",
       "       0.98647739, 0.98547487, 0.98447739, 0.9894799 , 0.98848744,\n",
       "       0.98498744, 0.98597739, 0.9869799 , 0.98698744, 0.98998744])"
      ]
     },
     "execution_count": 114,
     "metadata": {},
     "output_type": "execute_result"
    }
   ],
   "source": [
    "resultados_concatenados = np.concatenate([resultados_naive_cv,resultados_logistica_cv, resultados_forest_cv])\n",
    "resultados_concatenados"
   ]
  },
  {
   "cell_type": "code",
   "execution_count": 115,
   "metadata": {},
   "outputs": [],
   "source": [
    "resultados = {'Resultados':resultados_concatenados,\n",
    "              'Modelo':nomes_modelos}\n",
    "resultados_df = pd.DataFrame(resultados)"
   ]
  },
  {
   "cell_type": "code",
   "execution_count": 116,
   "metadata": {},
   "outputs": [
    {
     "data": {
      "text/html": [
       "<div>\n",
       "<style scoped>\n",
       "    .dataframe tbody tr th:only-of-type {\n",
       "        vertical-align: middle;\n",
       "    }\n",
       "\n",
       "    .dataframe tbody tr th {\n",
       "        vertical-align: top;\n",
       "    }\n",
       "\n",
       "    .dataframe thead th {\n",
       "        text-align: right;\n",
       "    }\n",
       "</style>\n",
       "<table border=\"1\" class=\"dataframe\">\n",
       "  <thead>\n",
       "    <tr style=\"text-align: right;\">\n",
       "      <th></th>\n",
       "      <th>Resultados</th>\n",
       "      <th>Modelo</th>\n",
       "    </tr>\n",
       "  </thead>\n",
       "  <tbody>\n",
       "    <tr>\n",
       "      <th>0</th>\n",
       "      <td>0.924862</td>\n",
       "      <td>Naive</td>\n",
       "    </tr>\n",
       "    <tr>\n",
       "      <th>1</th>\n",
       "      <td>0.924917</td>\n",
       "      <td>Naive</td>\n",
       "    </tr>\n",
       "    <tr>\n",
       "      <th>2</th>\n",
       "      <td>0.924387</td>\n",
       "      <td>Naive</td>\n",
       "    </tr>\n",
       "    <tr>\n",
       "      <th>3</th>\n",
       "      <td>0.922882</td>\n",
       "      <td>Naive</td>\n",
       "    </tr>\n",
       "    <tr>\n",
       "      <th>4</th>\n",
       "      <td>0.924872</td>\n",
       "      <td>Naive</td>\n",
       "    </tr>\n",
       "  </tbody>\n",
       "</table>\n",
       "</div>"
      ],
      "text/plain": [
       "   Resultados Modelo\n",
       "0    0.924862  Naive\n",
       "1    0.924917  Naive\n",
       "2    0.924387  Naive\n",
       "3    0.922882  Naive\n",
       "4    0.924872  Naive"
      ]
     },
     "execution_count": 116,
     "metadata": {},
     "output_type": "execute_result"
    }
   ],
   "source": [
    "resultados_df.head()"
   ]
  },
  {
   "cell_type": "code",
   "execution_count": 119,
   "metadata": {},
   "outputs": [],
   "source": [
    "comparacao = MultiComparison(resultados_df['Resultados'],resultados_df['Modelo'])"
   ]
  },
  {
   "cell_type": "code",
   "execution_count": 120,
   "metadata": {},
   "outputs": [
    {
     "name": "stdout",
     "output_type": "stream",
     "text": [
      "   Multiple Comparison of Means - Tukey HSD, FWER=0.05   \n",
      "=========================================================\n",
      "  group1    group2  meandiff p-adj  lower   upper  reject\n",
      "---------------------------------------------------------\n",
      "   Forest Logistica  -0.0414   0.0 -0.0422 -0.0407   True\n",
      "   Forest     Naive  -0.0621   0.0 -0.0629 -0.0614   True\n",
      "Logistica     Naive  -0.0207   0.0 -0.0215 -0.0199   True\n",
      "---------------------------------------------------------\n"
     ]
    }
   ],
   "source": [
    "teste_tukey = comparacao.tukeyhsd()\n",
    "print(teste_tukey)"
   ]
  },
  {
   "cell_type": "markdown",
   "metadata": {},
   "source": [
    "Random forest é estatisticamente superior as demais opções."
   ]
  },
  {
   "cell_type": "code",
   "execution_count": 122,
   "metadata": {},
   "outputs": [
    {
     "data": {
      "image/png": "[encoded data removed]",
      "text/plain": [
       "<Figure size 1000x600 with 1 Axes>"
      ]
     },
     "execution_count": 122,
     "metadata": {},
     "output_type": "execute_result"
    },
    {
     "data": {
      "image/png": "[encoded data removed]",
      "text/plain": [
       "<Figure size 1000x600 with 1 Axes>"
      ]
     },
     "metadata": {},
     "output_type": "display_data"
    }
   ],
   "source": [
    "teste_tukey.plot_simultaneous()"
   ]
  }
 ],
 "metadata": {
  "kernelspec": {
   "display_name": "Python 3",
   "language": "python",
   "name": "python3"
  },
  "language_info": {
   "codemirror_mode": {
    "name": "ipython",
    "version": 3
   },
   "file_extension": ".py",
   "mimetype": "text/x-python",
   "name": "python",
   "nbconvert_exporter": "python",
   "pygments_lexer": "ipython3",
   "version": "3.12.4"
  }
 },
 "nbformat": 4,
 "nbformat_minor": 2
}
